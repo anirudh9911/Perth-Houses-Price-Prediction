{
 "cells": [
  {
   "cell_type": "code",
   "execution_count": 93,
   "id": "21969bfb",
   "metadata": {},
   "outputs": [],
   "source": [
    "import numpy as np\n",
    "import pickle"
   ]
  },
  {
   "cell_type": "code",
   "execution_count": 94,
   "id": "574a1be3",
   "metadata": {},
   "outputs": [],
   "source": [
    "scaler = pickle.load(open(\"scaler_model.pkl\", \"rb\"))\n",
    "price_model = pickle.load(open(\"price_model.pkl\", \"rb\"))\n",
    "cbd_model = pickle.load(open(\"cbd_model.pkl\", \"rb\"))\n",
    "station_model = pickle.load(open(\"station_model.pkl\", \"rb\"))\n",
    "school_model = pickle.load(open(\"school_model.pkl\", \"rb\"))"
   ]
  },
  {
   "cell_type": "code",
   "execution_count": 95,
   "id": "3fc700f4",
   "metadata": {},
   "outputs": [
    {
     "name": "stderr",
     "output_type": "stream",
     "text": [
      "/Users/yash/anaconda3/lib/python3.11/site-packages/sklearn/base.py:464: UserWarning: X does not have valid feature names, but MinMaxScaler was fitted with feature names\n",
      "  warnings.warn(\n"
     ]
    }
   ],
   "source": [
    "a = [4,2,2,500,165,6104]\n",
    "b = len(a)\n",
    "float_features = [float(a[x]) for x in range (b)]\n",
    "normalized_features = scaler.transform([float_features])"
   ]
  },
  {
   "cell_type": "code",
   "execution_count": 96,
   "id": "eaff352a",
   "metadata": {},
   "outputs": [
    {
     "data": {
      "text/plain": [
       "array([[0.5       , 0.33333333, 0.14285714, 0.00879072, 0.34782609,\n",
       "        0.18198198]])"
      ]
     },
     "execution_count": 96,
     "metadata": {},
     "output_type": "execute_result"
    }
   ],
   "source": [
    "normalized_features"
   ]
  },
  {
   "cell_type": "code",
   "execution_count": 97,
   "id": "1a005b1a",
   "metadata": {},
   "outputs": [],
   "source": [
    "price = price_model.predict(normalized_features)\n",
    "cbd = cbd_model.predict(normalized_features)\n",
    "station = station_model.predict(normalized_features)\n",
    "school = school_model.predict(normalized_features)"
   ]
  },
  {
   "cell_type": "code",
   "execution_count": 99,
   "id": "cf8b6d2f",
   "metadata": {},
   "outputs": [
    {
     "name": "stdout",
     "output_type": "stream",
     "text": [
      "[520100.73832344]\n",
      "[7476.06349206]\n",
      "[3352.70270075]\n",
      "[1617.87107379]\n"
     ]
    }
   ],
   "source": [
    "print(price)\n",
    "print(cbd)\n",
    "print(station)\n",
    "print(school * 1000)"
   ]
  },
  {
   "cell_type": "code",
   "execution_count": null,
   "id": "3855b297",
   "metadata": {},
   "outputs": [],
   "source": []
  }
 ],
 "metadata": {
  "kernelspec": {
   "display_name": "Python 3 (ipykernel)",
   "language": "python",
   "name": "python3"
  },
  "language_info": {
   "codemirror_mode": {
    "name": "ipython",
    "version": 3
   },
   "file_extension": ".py",
   "mimetype": "text/x-python",
   "name": "python",
   "nbconvert_exporter": "python",
   "pygments_lexer": "ipython3",
   "version": "3.11.5"
  }
 },
 "nbformat": 4,
 "nbformat_minor": 5
}
